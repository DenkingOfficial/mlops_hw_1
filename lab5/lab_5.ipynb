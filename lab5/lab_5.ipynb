{
 "cells": [
  {
   "cell_type": "code",
   "execution_count": 193,
   "metadata": {},
   "outputs": [
    {
     "name": "stdout",
     "output_type": "stream",
     "text": [
      "Writing generate_data.py\n"
     ]
    }
   ],
   "source": [
    "%%writefile generate_data.py\n",
    "\n",
    "import numpy as np\n",
    "import pandas as pd\n",
    "\n",
    "\n",
    "def create_data(dataset_size: int = 100, noise_percent: int = 0) -> pd.DataFrame:\n",
    "    x = np.linspace(0, 10, dataset_size)\n",
    "    y = x + np.random.random(dataset_size) * 2 - 1\n",
    "    if noise_percent > 0:\n",
    "        slice_size = int(dataset_size * (noise_percent / 100))\n",
    "        noise_start_index = np.random.randint(0, dataset_size - slice_size + 1)\n",
    "        y[noise_start_index:noise_start_index+slice_size] *= 3\n",
    "    df = pd.DataFrame({'x': x, 'y': y})\n",
    "    df.round(0)\n",
    "    return df\n",
    "\n",
    "if __name__ == \"__main__\":\n",
    "    data_1 = create_data(dataset_size=2000)\n",
    "    data_2 = create_data(dataset_size=200, noise_percent=2)\n",
    "    data_3 = create_data(dataset_size=200, noise_percent=10)\n",
    "    data_1.to_csv(\"data-train-1.csv\", index=False)\n",
    "    data_2.to_csv(\"data-test-2.csv\", index=False)\n",
    "    data_3.to_csv(\"data-test-3.csv\", index=False)"
   ]
  },
  {
   "cell_type": "code",
   "execution_count": 194,
   "metadata": {},
   "outputs": [
    {
     "name": "stdout",
     "output_type": "stream",
     "text": [
      "Writing create_model.py\n"
     ]
    }
   ],
   "source": [
    "%%writefile create_model.py\n",
    "\n",
    "import pickle\n",
    "import pandas as pd\n",
    "from sklearn.linear_model import Ridge\n",
    "\n",
    "data = pd.read_csv('data-train-1.csv')\n",
    "model = Ridge()\n",
    "model.fit(data[['x']], data[['y']])\n",
    "\n",
    "pickle.dump(model, open('model.pth', 'wb'))"
   ]
  },
  {
   "cell_type": "code",
   "execution_count": 195,
   "metadata": {},
   "outputs": [
    {
     "name": "stdout",
     "output_type": "stream",
     "text": [
      "Writing test_model.py\n"
     ]
    }
   ],
   "source": [
    "%%writefile test_model.py\n",
    "\n",
    "import pickle\n",
    "import pandas as pd\n",
    "import numpy as np\n",
    "from sklearn.metrics import r2_score, mean_squared_error\n",
    "import matplotlib.pyplot as plt\n",
    "\n",
    "\n",
    "def score_model(data_path, model_path=\"model.pth\"):\n",
    "    model = pickle.load(open(model_path, \"rb\"))\n",
    "    data = pd.read_csv(data_path)\n",
    "    predicted_values = model.predict(data[[\"x\"]])\n",
    "    residuals = data[[\"y\"]] - predicted_values\n",
    "    mse = mean_squared_error(data[\"y\"], predicted_values)\n",
    "    anomaly_indices = np.where(np.abs(residuals) > 2 * np.sqrt(mse))[0]\n",
    "    print(\n",
    "        f\"Found {len(anomaly_indices)} abnormal targets in {data_path}: from index {anomaly_indices.min() if len(anomaly_indices) > 0 else 0} to {anomaly_indices.max() if len(anomaly_indices) > 0 else 0}\"\n",
    "    )\n",
    "    return r2_score(data[\"y\"], predicted_values)\n",
    "\n",
    "\n",
    "def test_model_on_train():\n",
    "    assert score_model(\"data-train-1.csv\") > 0.8\n",
    "\n",
    "def test_model_on_test_2():\n",
    "    assert score_model(\"data-test-2.csv\") > 0.8\n",
    "\n",
    "def test_model_on_test_3():\n",
    "    assert score_model(\"data-test-3.csv\") > 0.8\n"
   ]
  },
  {
   "cell_type": "code",
   "execution_count": 196,
   "metadata": {},
   "outputs": [
    {
     "name": "stdout",
     "output_type": "stream",
     "text": [
      "============================= test session starts =============================\n",
      "platform win32 -- Python 3.8.13, pytest-7.2.0, pluggy-1.0.0\n",
      "rootdir: d:\\Учеба\\MLOps\\mlops_hw_5\n",
      "plugins: anyio-3.6.2\n",
      "collected 3 items\n",
      "\n",
      "test_model.py .FF                                                        [100%]\n",
      "\n",
      "================================== FAILURES ===================================\n",
      "____________________________ test_model_on_test_2 _____________________________\n",
      "\n",
      "    def test_model_on_test_2():\n",
      ">       assert score_model(\"data-test-2.csv\") > 0.8\n",
      "E       AssertionError: assert 0.6671144060751548 > 0.8\n",
      "E        +  where 0.6671144060751548 = score_model('data-test-2.csv')\n",
      "\n",
      "test_model.py:26: AssertionError\n",
      "---------------------------- Captured stdout call -----------------------------\n",
      "Found 4 abnormal targets in data-test-2.csv: from index 163 to 166\n",
      "____________________________ test_model_on_test_3 _____________________________\n",
      "\n",
      "    def test_model_on_test_3():\n",
      ">       assert score_model(\"data-test-3.csv\") > 0.8\n",
      "E       AssertionError: assert 0.3712560833540711 > 0.8\n",
      "E        +  where 0.3712560833540711 = score_model('data-test-3.csv')\n",
      "\n",
      "test_model.py:29: AssertionError\n",
      "---------------------------- Captured stdout call -----------------------------\n",
      "Found 20 abnormal targets in data-test-3.csv: from index 144 to 163\n",
      "=========================== short test summary info ===========================\n",
      "FAILED test_model.py::test_model_on_test_2 - AssertionError: assert 0.6671144...\n",
      "FAILED test_model.py::test_model_on_test_3 - AssertionError: assert 0.3712560...\n",
      "========================= 2 failed, 1 passed in 2.49s =========================\n"
     ]
    }
   ],
   "source": [
    "%run -i \"generate_data.py\"\n",
    "%run -i \"create_model.py\"\n",
    "!\"pytest\""
   ]
  }
 ],
 "metadata": {
  "kernelspec": {
   "display_name": ".venv",
   "language": "python",
   "name": "python3"
  },
  "language_info": {
   "codemirror_mode": {
    "name": "ipython",
    "version": 3
   },
   "file_extension": ".py",
   "mimetype": "text/x-python",
   "name": "python",
   "nbconvert_exporter": "python",
   "pygments_lexer": "ipython3",
   "version": "3.8.13"
  },
  "orig_nbformat": 4
 },
 "nbformat": 4,
 "nbformat_minor": 2
}
